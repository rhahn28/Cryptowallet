{
 "cells": [
  {
   "cell_type": "code",
   "execution_count": 111,
   "metadata": {},
   "outputs": [],
   "source": [
    "import os\n",
    "from dotenv import load_dotenv  # had to load this directly into directory\n",
    "from web3.middleware import geth_poa_middleware\n",
    "\n",
    "from eth_account import Account\n",
    "from constants import *\n",
    "\n",
    "from constants import *\n",
    "import subprocess\n",
    "import json\n",
    "import os\n",
    "\n",
    "from bit import PrivateKeyTestnet\n",
    "from bit.network import NetworkAPI\n",
    "from web3 import Web3, middleware, Account\n",
    "from web3.gas_strategies.time_based import medium_gas_price_strategy"
   ]
  },
  {
   "cell_type": "code",
   "execution_count": null,
   "metadata": {},
   "outputs": [],
   "source": []
  },
  {
   "cell_type": "code",
   "execution_count": 112,
   "metadata": {},
   "outputs": [
    {
     "data": {
      "text/plain": [
       "True"
      ]
     },
     "execution_count": 112,
     "metadata": {},
     "output_type": "execute_result"
    }
   ],
   "source": [
    "load_dotenv()"
   ]
  },
  {
   "cell_type": "code",
   "execution_count": 132,
   "metadata": {},
   "outputs": [],
   "source": [
    "w3 = Web3(Web3.HTTPProvider(os.getenv('WEB3_PROVIDER', 'http://localhost:8545')))\n",
    "w3.middleware_onion.inject(geth_poa_middleware, layer=0)\n",
    "w3.eth.setGasPriceStrategy(medium_gas_price_strategy)"
   ]
  },
  {
   "cell_type": "code",
   "execution_count": 133,
   "metadata": {},
   "outputs": [
    {
     "data": {
      "text/plain": [
       "'tray wrong color version flag comfort argue person rail peace fog travel'"
      ]
     },
     "execution_count": 133,
     "metadata": {},
     "output_type": "execute_result"
    }
   ],
   "source": [
    "# obtain private key from .env that contains the mnemonic\n",
    "key_value = os.getenv(\"PRIVATE_KEY\")\n",
    "mnemonic = os.getenv(\"MNEMONIC\")\n",
    "\n",
    "# confirm import of private\n",
    "mnemonic"
   ]
  },
  {
   "cell_type": "code",
   "execution_count": 134,
   "metadata": {},
   "outputs": [
    {
     "data": {
      "text/plain": [
       "'php hd-wallet-derive/hd-wallet-derive.php -g --mnemonic=\"{mnemonic}\" --cols=path,address,privkey,pubkey --coin=\"btc-test\" --format=json'"
      ]
     },
     "execution_count": 134,
     "metadata": {},
     "output_type": "execute_result"
    }
   ],
   "source": [
    "# command as in CLI telling php to run command in hd-wallet-derive using vars below\n",
    "command = 'php hd-wallet-derive/hd-wallet-derive.php -g --mnemonic=\"{mnemonic}\" --cols=path,address,privkey,pubkey --coin=\"btc-test\" --format=json'\n",
    "\n",
    "#confirm output of command\n",
    "command"
   ]
  },
  {
   "cell_type": "code",
   "execution_count": 135,
   "metadata": {},
   "outputs": [
    {
     "data": {
      "text/plain": [
       "b'\\n[{\"path\":\"m\\\\/44\\'\\\\/1\\'\\\\/0\\'\\\\/0\\\\/0\",\"address\":\"mkR3RZ8U2RbaPEakrtwQnoK8jSmhFmEYku\",\"privkey\":\"cV3EfoUo5TJfbS356NhsUB9yTwCcb5YddgCva45uUPHeR1jUuZWF\",\"pubkey\":\"03b7beb738516433c0bcdca14ccfff5fe0f5b2553f26c38a038a061898225d93e5\"},{\"path\":\"m\\\\/44\\'\\\\/1\\'\\\\/0\\'\\\\/0\\\\/1\",\"address\":\"mqvz6G9KMPfDH7Ns5egb9gdAr2anxMJxrF\",\"privkey\":\"cSHtav3eA6CQrMJEK6Z54MdVroQDysvggcES4BLV4RW1HtCgTdCh\",\"pubkey\":\"0321a5408464e39b0fc0f04ebe6c9bfae836512684cb440d892211641deaa6308f\"},{\"path\":\"m\\\\/44\\'\\\\/1\\'\\\\/0\\'\\\\/0\\\\/2\",\"address\":\"mihaa7rqfKpyxPApY2oNqMN5yNp6isUt3f\",\"privkey\":\"cQiYawn2MLEZsxvsTzb3J8jGZ1ZFnvMrxVPQoAqKU99PudvfXNPD\",\"pubkey\":\"029f71291e38f7da532f1b539dc7a122e5862bb8ed1b157597b6c81bed9ca111c7\"},{\"path\":\"m\\\\/44\\'\\\\/1\\'\\\\/0\\'\\\\/0\\\\/3\",\"address\":\"mjJcgCFUiPnyBENAz5YpcuHy7hh1doQLRo\",\"privkey\":\"cUsgpCa31au69zHyFW86UhgEfAdLyzoXmW91hdhV6JAowmWSNcGN\",\"pubkey\":\"02480779fc9222f4731f25cc304088f09ed599c834b7c4f62e5d485f5537b10cd6\"},{\"path\":\"m\\\\/44\\'\\\\/1\\'\\\\/0\\'\\\\/0\\\\/4\",\"address\":\"mmLsyQvfwip4PhgH6EcrxTNcdL35Sy5QUB\",\"privkey\":\"cUFAnt18ZJDAjWhSbvQx2G4LfA7pitvBiehU8wAT6FQVuoEnrfSH\",\"pubkey\":\"03310854250f1253ccdd5f1e34d94bfef2dce6112a25e52885d558b0631b0929a7\"},{\"path\":\"m\\\\/44\\'\\\\/1\\'\\\\/0\\'\\\\/0\\\\/5\",\"address\":\"miUPdwrRFktmrVE7NkKwfXZK88m6vyQrDW\",\"privkey\":\"cTYt7MMCiKk1ko2AW8SW1r9ETfGR5A2shxixtAizkMob5fyAaXLi\",\"pubkey\":\"02629fe622f8563af4c3cc0ea280955da4193cb6ea878085f394e1ea23a8295ce8\"},{\"path\":\"m\\\\/44\\'\\\\/1\\'\\\\/0\\'\\\\/0\\\\/6\",\"address\":\"muyUNQdjfqJhSgHBLQrY8j4wxMVYAvLg5g\",\"privkey\":\"cU45PCGk1umYwzgUmggoWR8zW2u1YqA8ZVgwL2hBEPBig2tYoNFc\",\"pubkey\":\"023483285a9a87d011ccafbc78d11e32ef92fbe64dcead9191d048baf7232d38ab\"},{\"path\":\"m\\\\/44\\'\\\\/1\\'\\\\/0\\'\\\\/0\\\\/7\",\"address\":\"midBc8V1rpmkHBg9gRugcPy13iyG17BCEn\",\"privkey\":\"cRNANxUwBUNoB6cxoXhBVWhhEZKjFACfqhsSZ7JW4yAycjPn9Phj\",\"pubkey\":\"03249695c13794cadbe71b33f536cb26f34a21c3bda4f5d0c1ca5607b25136aa57\"},{\"path\":\"m\\\\/44\\'\\\\/1\\'\\\\/0\\'\\\\/0\\\\/8\",\"address\":\"myz1CXJqEdnhYBLDagEJHg6i7hn2cJf863\",\"privkey\":\"cVD1Ba4wKsJXwPe9BU1XAXCMx7V7QiovfoZVZ1sKxHQfG5RELYRY\",\"pubkey\":\"0274cf11a1becb668419846fd365e63bf09687e545ace28d698c81832dc40315e0\"},{\"path\":\"m\\\\/44\\'\\\\/1\\'\\\\/0\\'\\\\/0\\\\/9\",\"address\":\"mw8rJyzDfTGcuzK4hFeFanhxgPEfaFxj8H\",\"privkey\":\"cQcbCTcnzCa1d5qAYPVavaMck4LFb8Qc4erfFSUopVsGnAZxx272\",\"pubkey\":\"032ebefb4d5894cbfa2c08db9d4a54bee116e3e3c03627a81056336fd69051fa25\"}]'"
      ]
     },
     "execution_count": 135,
     "metadata": {},
     "output_type": "execute_result"
    }
   ],
   "source": [
    "# call subprocess library and Popen method from shell to get standard output\n",
    "p = subprocess.Popen(command, stdout =subprocess.PIPE, shell=True)\n",
    "\n",
    "# output and error using the communciate method\n",
    "(output, err) = p.communicate()\n",
    "output"
   ]
  },
  {
   "cell_type": "code",
   "execution_count": 136,
   "metadata": {},
   "outputs": [],
   "source": [
    "# wait for the table of address to show so won't execute until child process terminates\n",
    "p_status = p.wait()\n",
    "\n",
    "# because output is messy, add format = json to prettify, and add json load to perform the conversion\n",
    "keys = json.loads(output)"
   ]
  },
  {
   "cell_type": "code",
   "execution_count": 137,
   "metadata": {},
   "outputs": [
    {
     "data": {
      "text/plain": [
       "[{'path': \"m/44'/1'/0'/0/0\",\n",
       "  'address': 'mkR3RZ8U2RbaPEakrtwQnoK8jSmhFmEYku',\n",
       "  'privkey': 'cV3EfoUo5TJfbS356NhsUB9yTwCcb5YddgCva45uUPHeR1jUuZWF',\n",
       "  'pubkey': '03b7beb738516433c0bcdca14ccfff5fe0f5b2553f26c38a038a061898225d93e5'},\n",
       " {'path': \"m/44'/1'/0'/0/1\",\n",
       "  'address': 'mqvz6G9KMPfDH7Ns5egb9gdAr2anxMJxrF',\n",
       "  'privkey': 'cSHtav3eA6CQrMJEK6Z54MdVroQDysvggcES4BLV4RW1HtCgTdCh',\n",
       "  'pubkey': '0321a5408464e39b0fc0f04ebe6c9bfae836512684cb440d892211641deaa6308f'},\n",
       " {'path': \"m/44'/1'/0'/0/2\",\n",
       "  'address': 'mihaa7rqfKpyxPApY2oNqMN5yNp6isUt3f',\n",
       "  'privkey': 'cQiYawn2MLEZsxvsTzb3J8jGZ1ZFnvMrxVPQoAqKU99PudvfXNPD',\n",
       "  'pubkey': '029f71291e38f7da532f1b539dc7a122e5862bb8ed1b157597b6c81bed9ca111c7'},\n",
       " {'path': \"m/44'/1'/0'/0/3\",\n",
       "  'address': 'mjJcgCFUiPnyBENAz5YpcuHy7hh1doQLRo',\n",
       "  'privkey': 'cUsgpCa31au69zHyFW86UhgEfAdLyzoXmW91hdhV6JAowmWSNcGN',\n",
       "  'pubkey': '02480779fc9222f4731f25cc304088f09ed599c834b7c4f62e5d485f5537b10cd6'},\n",
       " {'path': \"m/44'/1'/0'/0/4\",\n",
       "  'address': 'mmLsyQvfwip4PhgH6EcrxTNcdL35Sy5QUB',\n",
       "  'privkey': 'cUFAnt18ZJDAjWhSbvQx2G4LfA7pitvBiehU8wAT6FQVuoEnrfSH',\n",
       "  'pubkey': '03310854250f1253ccdd5f1e34d94bfef2dce6112a25e52885d558b0631b0929a7'},\n",
       " {'path': \"m/44'/1'/0'/0/5\",\n",
       "  'address': 'miUPdwrRFktmrVE7NkKwfXZK88m6vyQrDW',\n",
       "  'privkey': 'cTYt7MMCiKk1ko2AW8SW1r9ETfGR5A2shxixtAizkMob5fyAaXLi',\n",
       "  'pubkey': '02629fe622f8563af4c3cc0ea280955da4193cb6ea878085f394e1ea23a8295ce8'},\n",
       " {'path': \"m/44'/1'/0'/0/6\",\n",
       "  'address': 'muyUNQdjfqJhSgHBLQrY8j4wxMVYAvLg5g',\n",
       "  'privkey': 'cU45PCGk1umYwzgUmggoWR8zW2u1YqA8ZVgwL2hBEPBig2tYoNFc',\n",
       "  'pubkey': '023483285a9a87d011ccafbc78d11e32ef92fbe64dcead9191d048baf7232d38ab'},\n",
       " {'path': \"m/44'/1'/0'/0/7\",\n",
       "  'address': 'midBc8V1rpmkHBg9gRugcPy13iyG17BCEn',\n",
       "  'privkey': 'cRNANxUwBUNoB6cxoXhBVWhhEZKjFACfqhsSZ7JW4yAycjPn9Phj',\n",
       "  'pubkey': '03249695c13794cadbe71b33f536cb26f34a21c3bda4f5d0c1ca5607b25136aa57'},\n",
       " {'path': \"m/44'/1'/0'/0/8\",\n",
       "  'address': 'myz1CXJqEdnhYBLDagEJHg6i7hn2cJf863',\n",
       "  'privkey': 'cVD1Ba4wKsJXwPe9BU1XAXCMx7V7QiovfoZVZ1sKxHQfG5RELYRY',\n",
       "  'pubkey': '0274cf11a1becb668419846fd365e63bf09687e545ace28d698c81832dc40315e0'},\n",
       " {'path': \"m/44'/1'/0'/0/9\",\n",
       "  'address': 'mw8rJyzDfTGcuzK4hFeFanhxgPEfaFxj8H',\n",
       "  'privkey': 'cQcbCTcnzCa1d5qAYPVavaMck4LFb8Qc4erfFSUopVsGnAZxx272',\n",
       "  'pubkey': '032ebefb4d5894cbfa2c08db9d4a54bee116e3e3c03627a81056336fd69051fa25'}]"
      ]
     },
     "execution_count": 137,
     "metadata": {},
     "output_type": "execute_result"
    }
   ],
   "source": [
    "# print output in json. code above will now generate a dictionary of new address and paths- limit is 10` \n",
    "# [{\"path1\": \"derivationPath\", \"address\":\"value\", \"privkey\": \"pkvalue\", \"pubkey\":\"pbvalue\"},\n",
    "keys"
   ]
  },
  {
   "cell_type": "code",
   "execution_count": 138,
   "metadata": {},
   "outputs": [
    {
     "data": {
      "text/plain": [
       "'mkR3RZ8U2RbaPEakrtwQnoK8jSmhFmEYku'"
      ]
     },
     "execution_count": 138,
     "metadata": {},
     "output_type": "execute_result"
    }
   ],
   "source": [
    "keys[0]['address']"
   ]
  },
  {
   "cell_type": "code",
   "execution_count": 154,
   "metadata": {},
   "outputs": [],
   "source": [
    "# function to create path, address, private/public key, for a coin)\n",
    "def derive_wallets(mnemonic, coin_ticker, depth=3):\n",
    "\n",
    "    # calls shell for php to exceute hd-wallet-derive for a 12 word mnemonic for paricular coin_ticker\n",
    "    command = f'php hd-wallet-derive/hd-wallet-derive.php -g --mnemonic=\"{mnemonic}\" --cols=path,address,privkey,pubkey --coin={coin_ticker} --format=json'\n",
    "   \n",
    "    p = subprocess.Popen(command, stdout=subprocess.PIPE, shell=True)\n",
    "\n",
    "    #obtains data and error \n",
    "    (output, err) = p.communicate()\n",
    "    \n",
    "    # wait for the table of address to show so won't execute until child process terminates\n",
    "    p_status = p.wait()\n",
    "    keys = json.loads(output)\n",
    "    return keys"
   ]
  },
  {
   "cell_type": "code",
   "execution_count": 155,
   "metadata": {},
   "outputs": [],
   "source": [
    "# test: call the function as a test to see for coin = \"btc\"\n",
    "#coin = \"eth\"\n",
    "#derive_wallets(os.getenv(\"mnemonic\"), coin)"
   ]
  },
  {
   "cell_type": "code",
   "execution_count": 156,
   "metadata": {},
   "outputs": [],
   "source": [
    "# option 1: list called coins that can be called in a list comprehension of for-loop to create \n",
    "#coins = [\"btc\", \"eth\"]\n",
    "# use list comprehension where dictionary and iterates through coin list\n",
    "#{coin:derive_wallets(os.getenv(\"MNEMONIC\"), coin) for coin in coins}    "
   ]
  },
  {
   "cell_type": "code",
   "execution_count": 157,
   "metadata": {},
   "outputs": [],
   "source": [
    "# option 2 - use standard for loop to iterate through coin and add to dictionary keys where each coin has a set of address, private/public key from derive_wallets\n",
    "#initailize a list of coins from constants.py\n",
    "coin_tickers = [BTCTEST, ETH, BTC]\n",
    "\n",
    "# create empty dictionary\n",
    "coins = {}\n",
    "\n",
    "# for loop creating a dictionary coins for each coin_ticker\n",
    "for coin_ticker in coin_tickers:\n",
    "\n",
    "    coins[coin_ticker] = derive_wallets(mnemonic, coin_ticker)"
   ]
  },
  {
   "cell_type": "code",
   "execution_count": 158,
   "metadata": {},
   "outputs": [
    {
     "data": {
      "text/plain": [
       "{'btc-test': [{'path': \"m/44'/1'/0'/0/0\",\n",
       "   'address': 'moLExVvazdJA3GkKQS3brkjXJyL11iZxge',\n",
       "   'privkey': 'cVRyhuKhZm6BJCrmdxWYtqesiPEzKmtL4MtthBdMtfZKToNxz4WE',\n",
       "   'pubkey': '02ab3a48f6d285e752d9ee950529c24aa3651fcfec4aa7150edc9908af8bfc00ee'},\n",
       "  {'path': \"m/44'/1'/0'/0/1\",\n",
       "   'address': 'msYii59myWwcjGzEJXsSm6TDjs2GV53d3T',\n",
       "   'privkey': 'cQCvLWU4xETj1ytjtfNH8XNSfqzyFc5r2Zu3ufmic82dSRirx9M9',\n",
       "   'pubkey': '03a6d4d77b170a8d81223f82afb6940705f04a750239ad74d26415b5c41d5e4ced'},\n",
       "  {'path': \"m/44'/1'/0'/0/2\",\n",
       "   'address': 'mkZPBYWYvsAruHZ5NwbxBUq3gmBki3z9EB',\n",
       "   'privkey': 'cV5fpPUSUyAUDCVJUKgFqUEnMDHbXs57xJMX1j18nWGyiB1CgHaQ',\n",
       "   'pubkey': '03d8cbb1167d3761dfbe411b2f7411edbc2567d8a7b9025480d7f80855b3f64657'},\n",
       "  {'path': \"m/44'/1'/0'/0/3\",\n",
       "   'address': 'mj5C35cd5FonjowZufAguNxgiEoYhmP1w8',\n",
       "   'privkey': 'cRAUDMMnAzUD9m1oto4iG3MV7aaremuMWTYsuTFtnd3EkDXZTgJt',\n",
       "   'pubkey': '0310c3a0870ac691d1d12b97f2fb7b37ffcf7b73f377dd96485c63d062a6fd5a04'},\n",
       "  {'path': \"m/44'/1'/0'/0/4\",\n",
       "   'address': 'mmnPfC5WN92uPi63rwo9wKAXBajo1wUbYW',\n",
       "   'privkey': 'cP5khY7rqUyvPEwfg2EHk4B6K4omhD1t54oke2vJnvCkZoACzV6q',\n",
       "   'pubkey': '034ee9f5ca8ce2caf5d5fa0130308ebd69d413ce8f2093d3e1d33a7e4184df62c9'},\n",
       "  {'path': \"m/44'/1'/0'/0/5\",\n",
       "   'address': 'mmHUzMJtwwjrCkzt1F9AQGYEp16ZdTZ2Pz',\n",
       "   'privkey': 'cSTVXVgpmbWjmu4LpVgnUaH6W9A9choazM8K9Efz8DtRttUZ27vw',\n",
       "   'pubkey': '03b3cc7524372ec4653c7c67dafec9c29e641d693e388120644bba204fad171586'},\n",
       "  {'path': \"m/44'/1'/0'/0/6\",\n",
       "   'address': 'mkGn584nmKQP8f72ywg1mu2ZoVnPfDhYX4',\n",
       "   'privkey': 'cUztrDJTyeBSpGNkojWUjzt6QRW1cqYXiFcp97sdZh9DDpuMD5nQ',\n",
       "   'pubkey': '03daccc6d3506da4602647b9317cb56c2ea0d389aa7765090fa5d266b64394959d'},\n",
       "  {'path': \"m/44'/1'/0'/0/7\",\n",
       "   'address': 'mjBitj9YJkkCwZ7HuwXQfNnD5RPbpGcTub',\n",
       "   'privkey': 'cPr3JtFZ51E4v65oGyJHmQQWFPUcgceVY9yYzsEP5UtecMiUyfSD',\n",
       "   'pubkey': '021e70451fca2b049425cfe6ada334396c6032542775ecff0601f38abee0017dff'},\n",
       "  {'path': \"m/44'/1'/0'/0/8\",\n",
       "   'address': 'mrNNs6sBzx85VHjs5V6DP9x8TWkTtTayC5',\n",
       "   'privkey': 'cTYWqa847ED7M5AEcf2hAus1357boxXuS7f2H4ojy7fTWMt1yFJu',\n",
       "   'pubkey': '03db65bfd75fbb35a89870f64a95aba175c06ff9edd2b7628c23c7d395077cf12a'},\n",
       "  {'path': \"m/44'/1'/0'/0/9\",\n",
       "   'address': 'mmzxg8zCmVxgT4s6hhCkmXDhgcGZR1tLga',\n",
       "   'privkey': 'cR1kC3HDWdzrvoXTe7BvVwibcLcj4TMV8xaX41CUuoennarZWyXx',\n",
       "   'pubkey': '02d1bc19db7b10cda33be047da1a6c54807afef24db7955f7fb42e38b25e23b711'}],\n",
       " 'eth': [{'path': \"m/44'/60'/0'/0/0\",\n",
       "   'address': '0xfA1879D40cB2f88fa095Ce29337cc2A5e55Af599',\n",
       "   'privkey': '0xeb375391f29944cb983b5177ac508ea6bbca4dd9d17f63b80f3d1b86effe4482',\n",
       "   'pubkey': '02aaf56624b246ee44a2e20e35e2c633824b16d35eb2379e0e3444410a627ddfa4'},\n",
       "  {'path': \"m/44'/60'/0'/0/1\",\n",
       "   'address': '0x63801e2f1C62075Ad8c5855513c3b9cCBD30d2E7',\n",
       "   'privkey': '0x2e8d649f032ceb0d51a6c5749e4f6fc732d3d5b21167578605a065d8a530fd85',\n",
       "   'pubkey': '02607d9de1c6e6b3d04865490d51c7b405de5f0737df14671cdbda174f0c981d79'},\n",
       "  {'path': \"m/44'/60'/0'/0/2\",\n",
       "   'address': '0x3BD8A07d7bD752f2f0B165C733dA970c5e771cD1',\n",
       "   'privkey': '0x42570c00e805c48d7fd830ff2e06c96929fa65592402dbf5066af63646349221',\n",
       "   'pubkey': '03fda2a7e49d9eb4fe8be2faa01e8d521de739d7b1c7b00ba030aa4540cff357e6'},\n",
       "  {'path': \"m/44'/60'/0'/0/3\",\n",
       "   'address': '0xfB125B713c5598B211BC43E8DdEc06D26f4080bE',\n",
       "   'privkey': '0x2f931396857398978d7056e3aeee1f8df2cd9c46b286d843b8b50fb7b3a1ffaf',\n",
       "   'pubkey': '03d79cc6a9289634a0b83e10bf75b7d87117d6b6e369bfe4ed0adfac4a5e1cb8a6'},\n",
       "  {'path': \"m/44'/60'/0'/0/4\",\n",
       "   'address': '0xC7FA6B8b3a947642302F3e42233d3576B0b81780',\n",
       "   'privkey': '0x6f4976a79c97fb89818aa4325c430ce76691acc6bafa1e9839e2f21681a50ea1',\n",
       "   'pubkey': '024d8744058d4e9608f704aa4723eaed0b8b43bd43b51ad295eb86b2afe8332a63'},\n",
       "  {'path': \"m/44'/60'/0'/0/5\",\n",
       "   'address': '0xaDFc91A4f093a6E18da483f9944C983f3A45FeA0',\n",
       "   'privkey': '0x1f589fdf9bcbc0145d90cc14b62f9a2222df4fd1516e62d0bcc13db182930e95',\n",
       "   'pubkey': '03ba8972d1ba8f5689e99d60ee3f301945408e03c08c4db4614dd672847240dcff'},\n",
       "  {'path': \"m/44'/60'/0'/0/6\",\n",
       "   'address': '0x01412aBD110E2C0d3300251C4DdacbE2659c6b26',\n",
       "   'privkey': '0xf48eef9f54a8958604d4cab7db7f1d3dd930b1b317fb0576da9ff8794f6b88be',\n",
       "   'pubkey': '027a2504c2f797417675683c1d343db3a03ebf7ff298caf23dd55cdf714655a4e0'},\n",
       "  {'path': \"m/44'/60'/0'/0/7\",\n",
       "   'address': '0xb1735CE68a15Cbc38F42C86b03B5F3C25E2a2eD9',\n",
       "   'privkey': '0xaafd866c9e79f9bbfa7c1227c8ec8f00fdbe9ac143520dbc5f01d3fffb30fdb0',\n",
       "   'pubkey': '028beae6d3bf9d948525bc32001de4a0f0f92c1c6911a92a2bb98fdb2d73590e2b'},\n",
       "  {'path': \"m/44'/60'/0'/0/8\",\n",
       "   'address': '0x541CFd20d24b36724FB03ffAa476B49e3eEB06BE',\n",
       "   'privkey': '0x21de612dccaa4d3959d89870ec7c6a04a3b562e7c2348e98668926ebedeaef20',\n",
       "   'pubkey': '0397c37944e5aa466778e9a978fb500e88e8475fb8149084515b01f7e7b40edc09'},\n",
       "  {'path': \"m/44'/60'/0'/0/9\",\n",
       "   'address': '0xF5A4c8CB6fBd2d536eb5d1289db390869F0363FC',\n",
       "   'privkey': '0xcc50bc47ba1afbe245af129243005a83cc9d25743494bf79a0ec1f63a3e365cb',\n",
       "   'pubkey': '030bd61e23ff7cf27dabceb32b51e29d333da48db2fa80d97f4c8dd44a47e32713'}],\n",
       " 'btc': [{'path': \"m/44'/0'/0'/0/0\",\n",
       "   'address': '1Ht7naWuaZeHoRx7DtYfazSu8EvnrcqF7r',\n",
       "   'privkey': 'KwumH9m7LimZAvjP9JV766GC3fDRKN1bzvCjk1LFgFtwD9qbSEt3',\n",
       "   'pubkey': '02bad546eca9b99dce6ae6479714642f87198288a4b0905a28e8027294b0b7c46b'},\n",
       "  {'path': \"m/44'/0'/0'/0/1\",\n",
       "   'address': '1GeZXDH1N8DguSbt5vgZSVxRdrtczHp2f9',\n",
       "   'privkey': 'L4U1jY2dZrfwjKC8L56WDb4qroShMT845CvobgxH1enpkHGhEiSf',\n",
       "   'pubkey': '029e8a33a0667bd9ceb5fe53523dec63cf2429a5dbddb62673f393e239b17477d2'},\n",
       "  {'path': \"m/44'/0'/0'/0/2\",\n",
       "   'address': '1P2phJRMWuBT876yvqjY76rk63TTzAAXGf',\n",
       "   'privkey': 'KwGgzXbQKJBUBF6ar3EhwvQW882ZDP8QpMLpJkovU1YPWVRGKZu2',\n",
       "   'pubkey': '0245112a1bb117f34a613d4b0c495931b28dc9cbcacfd603d51472e967ddb74283'},\n",
       "  {'path': \"m/44'/0'/0'/0/3\",\n",
       "   'address': '1NT9xtmnoa8rZtr6YgDGedHZmHkyBewBy3',\n",
       "   'privkey': 'Kz8Vvf6aExvWekhdh5jRbWmnXdWeyeH6jCN2mNjRQQL9HWfNxfjq',\n",
       "   'pubkey': '02841ef24861e62a5e607a3504c76252a994938c326732d38c52838ac27222840b'},\n",
       "  {'path': \"m/44'/0'/0'/0/4\",\n",
       "   'address': '1HpfGAwG9pCuBwAMj4RqD5B7stBHWX5FHH',\n",
       "   'privkey': 'KyRHjc9c6f1oNvmei35QKnVeNQAwiwkEqk4yKGhX5bpuiiWs6uRi',\n",
       "   'pubkey': '03d4054ff86a65f021ec3946c0fc459c4b6ae6b99ea0e0a5aa63ae62548ed57425'},\n",
       "  {'path': \"m/44'/0'/0'/0/5\",\n",
       "   'address': '12uWppgYkEuQ95k388RYYxRrkvXWzNzeEt',\n",
       "   'privkey': 'L5ayj95GMXeFBZ51UvH2BBNyKvzGm1ZEg26cjuoWWwoj9WMRzjXG',\n",
       "   'pubkey': '03616bc5ee42b62a2c49090c230321185a9568fadc9fd5d46eabb1672ddbff7e08'},\n",
       "  {'path': \"m/44'/0'/0'/0/6\",\n",
       "   'address': '1C2QundhxnrPEEJxkEqzjEx4fYqUwmeHGV',\n",
       "   'privkey': 'KxTELw5fr6bWBrudMxaYnTL8tJZDrgLkG78VGk8txbQV8e81Qpir',\n",
       "   'pubkey': '03c5abb17851f890e0492bacd4aaa4b3fcbfbdf60e3aa6a5da1e9310ebee6657e1'},\n",
       "  {'path': \"m/44'/0'/0'/0/7\",\n",
       "   'address': '1JuuRAidqeJk4fEodtpEvRSc6h4kXacaQC',\n",
       "   'privkey': 'L1YeY3VuiHSM2faHpsxevUGWavjU3m87drxLg1bRR9Xpr6bTQehx',\n",
       "   'pubkey': '026b102ef0e9cf990e838652dcce84b073f04a9aa6e48f35d5e4f1babb3beb5a81'},\n",
       "  {'path': \"m/44'/0'/0'/0/8\",\n",
       "   'address': '17oVDUmeAUPqtBEfFAwCJafd3mewJKvzSB',\n",
       "   'privkey': 'L2mrHb32g5AZ46D94JZBPjzUWTCRaYAWKY9eGF9AqJokUsmrF8JN',\n",
       "   'pubkey': '022255f1f2cf9783ea702fd193a3354d77996bebb255984c48b94985e67e5bc48e'},\n",
       "  {'path': \"m/44'/0'/0'/0/9\",\n",
       "   'address': '1HKmNk3dj5XrrwRi7FDY1ZV1vbtqi5SaaX',\n",
       "   'privkey': 'KxCRFGnfp3sF6vinVJgoXUd87zwhCCUbqpZehJtq4cacqY7yhGuw',\n",
       "   'pubkey': '03f4714479cebb0d6dfe5f5618c54b0613e7ccf30ba4ad63ac6571cdafcb52a840'}]}"
      ]
     },
     "execution_count": 158,
     "metadata": {},
     "output_type": "execute_result"
    }
   ],
   "source": [
    "coins"
   ]
  },
  {
   "cell_type": "code",
   "execution_count": 159,
   "metadata": {},
   "outputs": [],
   "source": [
    "# get for coin at position 0, the address\n",
    "#coins[BTCTEST][0]['privkey']"
   ]
  },
  {
   "cell_type": "code",
   "execution_count": 160,
   "metadata": {},
   "outputs": [],
   "source": [
    "# converts privkey string in a child key to an account object that web3.py or bit can use to transact\n",
    "def priv_key_to_account(coin, priv_key):\n",
    "    \n",
    "    # check coin, and return following based on the library\n",
    "    if coin == ETH:\n",
    "        return Account.privateKeyToAccount(priv_key)\n",
    "    if coin == BTCTEST:\n",
    "        return PrivateKeyTestnet(priv_key)\n",
    "    \n",
    "    # challenge\n",
    "    # BTC, LTC lit,  \n",
    "    "
   ]
  },
  {
   "cell_type": "code",
   "execution_count": 161,
   "metadata": {},
   "outputs": [],
   "source": [
    "# testing accounts one and two\n",
    "account_one = priv_key_to_account(ETH, coins[ETH][0]['privkey'])\n",
    "account_two = priv_key_to_account(ETH, coins[ETH][1]['privkey'])"
   ]
  },
  {
   "cell_type": "code",
   "execution_count": 162,
   "metadata": {},
   "outputs": [
    {
     "name": "stdout",
     "output_type": "stream",
     "text": [
      "0xfA1879D40cB2f88fa095Ce29337cc2A5e55Af599\n"
     ]
    }
   ],
   "source": [
    "print(account_one.address)"
   ]
  },
  {
   "cell_type": "code",
   "execution_count": 163,
   "metadata": {},
   "outputs": [
    {
     "name": "stdout",
     "output_type": "stream",
     "text": [
      "0x63801e2f1C62075Ad8c5855513c3b9cCBD30d2E7\n"
     ]
    }
   ],
   "source": [
    "print(account_two.address)"
   ]
  },
  {
   "cell_type": "code",
   "execution_count": 179,
   "metadata": {},
   "outputs": [],
   "source": [
    "# creates the raw, unsigined transaction that contains all meta data needed to transact.\n",
    "def create_txn(coin, account, to, amount):\n",
    "    \n",
    "    # check if ETH\n",
    "    if coin==ETH:\n",
    "        gasEstimate = w3.eth.estimateGas({\"from\":account_one.address, \"to\":to, \"value\":amount})\n",
    "        return {\n",
    "            \"from\":account_one.address,\n",
    "            \"to\":to,\n",
    "            \"value\":amount,\n",
    "            \"gasPrice\":w3.eth.gasPrice,\n",
    "            \"gas\":gasEstimate,\n",
    "            \"nonce\":w3.eth.getTransactionCount(account.address),\n",
    "             #\"chainID\":w3.eth.chainId\n",
    "        }\n",
    "    # check if btc-test\n",
    "    if coin==BTCTEST:\n",
    "        return PrivateKeyTestnet.prepare_transaction(account.address, [(to, amount, BTC)])\n",
    "        \n",
    "    # challenge\n",
    "    # BTC, LTC lit,    \n",
    "    \n",
    "                "
   ]
  },
  {
   "cell_type": "code",
   "execution_count": 184,
   "metadata": {},
   "outputs": [
    {
     "data": {
      "text/plain": [
       "{'from': '0xfA1879D40cB2f88fa095Ce29337cc2A5e55Af599',\n",
       " 'to': '0x63801e2f1C62075Ad8c5855513c3b9cCBD30d2E7',\n",
       " 'value': 402,\n",
       " 'gasPrice': 20000000000,\n",
       " 'gas': 21000,\n",
       " 'nonce': 16}"
      ]
     },
     "execution_count": 184,
     "metadata": {},
     "output_type": "execute_result"
    }
   ],
   "source": [
    "create_txn(ETH, account_one, account_two.address, 402)"
   ]
  },
  {
   "cell_type": "code",
   "execution_count": 185,
   "metadata": {},
   "outputs": [],
   "source": [
    "# signs the transaction, then sends to the designated network.\n",
    "def send_txn(coin, account, to, amount):\n",
    "    \n",
    "    if coin == ETH:\n",
    "        # call create_txn from above and assign to object txn\n",
    "        txn = create_txn(coin, account, to, amount)\n",
    "        # sign the txn using the sign_transction methdo from web3\n",
    "        signed_txn = account.sign_transaction(txn)\n",
    "         # if eth capture the result of the send, checks for the error using sendRawTransactoin method\n",
    "        result = w3.eth.sendRawTransaction(signed_txn.rawTransaction)\n",
    "    \n",
    "    if coin == BTCTEST:\n",
    "        # call create_txn from above and assign to object txn\n",
    "        txn = create_txn(coin, account, to, amount)\n",
    "        # sign the txn using the sign_transction methdo from web3\n",
    "        signed_txn = account.sign_transaction(txn)                   \n",
    "        # if btc-test capture the result of the send, checks for the error using sendRawTransactoin method\n",
    "        result = NetworkAPI.broadcast_tx_testnet(signed_txn)\n",
    "    \n",
    "    print(signed_txn)\n",
    "    return (result.hex())\n",
    "    # challenge\n",
    "    # BTC, LTC lit,   "
   ]
  },
  {
   "cell_type": "code",
   "execution_count": 182,
   "metadata": {},
   "outputs": [],
   "source": [
    "# challenge \n",
    "# def txid()"
   ]
  },
  {
   "cell_type": "code",
   "execution_count": 186,
   "metadata": {},
   "outputs": [
    {
     "name": "stdout",
     "output_type": "stream",
     "text": [
      "AttrDict({'rawTransaction': HexBytes('0xf866108504a817c8008252089463801e2f1c62075ad8c5855513c3b9ccbd30d2e7820192801ca02aacc9695e620d27246552d72ef0d88f8de4d742c9385ac8ddeeb4dfccf76cd5a0450e2fcd71820db349897a8fb972a402bea63ee2ec256c4fc8c9adb6f0479e5a'), 'hash': HexBytes('0xa65514a4e7f99438a33749b21c5a1d3de404f14fb53231be80aa3bb3958951a8'), 'r': 19302427427388866784899105172645442270116535513300569298825176138984940072149, 's': 31234652331973433973011510493193759262715411735689146978193901121914089741914, 'v': 28})\n"
     ]
    },
    {
     "data": {
      "text/plain": [
       "'0xa65514a4e7f99438a33749b21c5a1d3de404f14fb53231be80aa3bb3958951a8'"
      ]
     },
     "execution_count": 186,
     "metadata": {},
     "output_type": "execute_result"
    }
   ],
   "source": [
    "send_txn(ETH, account_one, account_two.address, 402)\n",
    "\n"
   ]
  },
  {
   "cell_type": "code",
   "execution_count": null,
   "metadata": {},
   "outputs": [],
   "source": []
  },
  {
   "cell_type": "code",
   "execution_count": null,
   "metadata": {},
   "outputs": [],
   "source": []
  }
 ],
 "metadata": {
  "kernelspec": {
   "display_name": "Python 3",
   "language": "python",
   "name": "python3"
  },
  "language_info": {
   "codemirror_mode": {
    "name": "ipython",
    "version": 3
   },
   "file_extension": ".py",
   "mimetype": "text/x-python",
   "name": "python",
   "nbconvert_exporter": "python",
   "pygments_lexer": "ipython3",
   "version": "3.7.6"
  }
 },
 "nbformat": 4,
 "nbformat_minor": 4
}
